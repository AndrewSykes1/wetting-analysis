{
 "cells": [
  {
   "cell_type": "code",
   "execution_count": 116,
   "metadata": {},
   "outputs": [],
   "source": [
    "import numpy as np\n",
    "import math\n",
    "from scipy.optimize import minimize\n",
    "import random"
   ]
  },
  {
   "cell_type": "code",
   "execution_count": 117,
   "metadata": {},
   "outputs": [],
   "source": [
    "actual_file = r'\\Cellulose110_8000Water_NaCL_5M.txt'\n",
    "written_file = actual_file.replace(r\"\\C\",'C')\n",
    "written_file = written_file.replace('.txt','')\n",
    "item_path = r'D:\\all_programming\\wetting-analysis\\DataFiles' + actual_file"
   ]
  },
  {
   "cell_type": "code",
   "execution_count": 118,
   "metadata": {},
   "outputs": [],
   "source": [
    "with open(item_path, 'r') as file:\n",
    "    x_vals = {}\n",
    "    y_vals = {}\n",
    "    \n",
    "    for row in file:\n",
    "        if row.startswith('Frame: '):\n",
    "            row = row.strip()\n",
    "            junk, current_frame = row.split(': ')\n",
    "            current_frame = int(current_frame) \n",
    "            x_vals[current_frame] = []\n",
    "            y_vals[current_frame] = []\n",
    "\n",
    "        elif row.startswith('{'):\n",
    "            row = row.strip()\n",
    "            row = row.replace(', ', 'ß')\n",
    "            row = row.replace('} {', 'ß')\n",
    "            row = row.replace('{', '')\n",
    "            row = row.replace('}', '')\n",
    "            broken_row = row.split('ß')\n",
    "\n",
    "            for i in range(len(broken_row)):\n",
    "                if i % 2 == 0:\n",
    "                    x_vals[current_frame].append(float(broken_row[i]))\n",
    "                elif i % 2 == 1:\n",
    "                    y_vals[current_frame].append(float(broken_row[i]))\n",
    "\n",
    "            x_vals_polished = {}\n",
    "            for frame in x_vals.keys():\n",
    "                min_x = min(x_vals[frame])\n",
    "                x_vals_polished[frame] = []\n",
    "\n",
    "                for item in x_vals[frame]:\n",
    "                    x_vals_polished[frame].append(item + abs(min_x))\n",
    "\n",
    "            x_vals = x_vals_polished"
   ]
  },
  {
   "cell_type": "code",
   "execution_count": 119,
   "metadata": {},
   "outputs": [],
   "source": [
    "point_count = {}\n",
    "for key in x_vals.keys():\n",
    "    point_count[key] = len(x_vals[key])"
   ]
  },
  {
   "cell_type": "code",
   "execution_count": 120,
   "metadata": {},
   "outputs": [],
   "source": [
    "bootstrap_iterations = 1000\n",
    "\n",
    "rand_x_vals = {} # {0:{0:[x0,x1,...],...},...}\n",
    "rand_y_vals = {}\n",
    "\n",
    "for key in x_vals.keys():\n",
    "    rand_x_vals[key] = {}\n",
    "    rand_y_vals[key] = {}\n",
    "\n",
    "    for i in range(bootstrap_iterations):\n",
    "        rand_x_vals[key][i] = []\n",
    "        rand_y_vals[key][i] = []\n",
    "\n",
    "        for j in range(len(x_vals[key])):\n",
    "            random_index = random.randint(0, point_count[key] - 1)\n",
    "            rand_x, rand_y = x_vals[key][random_index], y_vals[key][random_index]\n",
    "            rand_x_vals[key][i].append(rand_x)\n",
    "            rand_y_vals[key][i].append(rand_y)\n"
   ]
  },
  {
   "cell_type": "code",
   "execution_count": 121,
   "metadata": {},
   "outputs": [],
   "source": [
    "# Define the objective function\n",
    "def objective(params, X, Y):\n",
    "    a, b, y_0, C, x_0 = params\n",
    "    summation = np.sum(np.abs((1/a**2)*X**2 - 2*x_0/a**2*X + (1/b**2)*Y**2 - 2*y_0/b**2*Y - C))\n",
    "    return summation"
   ]
  },
  {
   "cell_type": "code",
   "execution_count": 122,
   "metadata": {},
   "outputs": [],
   "source": [
    "CA_dict = {}\n",
    "\n",
    "for frame in rand_x_vals.keys():\n",
    "    CA_dict[frame] = []\n",
    "\n",
    "    for boot_it in rand_x_vals[frame].keys():\n",
    "    \n",
    "        X_data = np.array(rand_x_vals[frame][boot_it])  # X values\n",
    "        Y_data = np.array(rand_y_vals[frame][boot_it])  # Y values\n",
    "\n",
    "        x_0 = max(X_data) / 2  # Generally true statement \n",
    "        x_0_pm = 5\n",
    "\n",
    "        # Initial guess for the parameters [a, b, y_0, C, x_0]\n",
    "        initial_guess = [0.4, 0.5, -11.1, 10, x_0]\n",
    "\n",
    "        # Define bounds for the parameters: (a, b, y_0, C, x_0)\n",
    "        a_B = (0.1, 100)\n",
    "        b_B = (0.1, 100)\n",
    "        y_0_B = (-50, -20)\n",
    "        C_B = (-100, 100)\n",
    "        x_0_B = (x_0 - x_0_pm, x_0 + x_0_pm)\n",
    "        bounds = [a_B, b_B, y_0_B, C_B, x_0_B] \n",
    "\n",
    "        # Perform the optimization\n",
    "        result = minimize(objective, initial_guess, args=(X_data, Y_data), method='L-BFGS-B', bounds=bounds)\n",
    "        a_opt, b_opt, y_0_opt, C_opt, x_0_opt = result.x\n",
    "\n",
    "        # Angle calculation\n",
    "        x_a = x_0_opt + math.sqrt(x_0**2 + C_opt * a_opt**2)\n",
    "        dydx_x_a = b_opt**2*(x_0-x_a)/(a_opt**2*(-y_0_opt))\n",
    "        theta = abs(math.atan(dydx_x_a)) * 180 / math.pi\n",
    "        CA_dict[frame].append(theta)  "
   ]
  },
  {
   "cell_type": "code",
   "execution_count": 123,
   "metadata": {},
   "outputs": [
    {
     "name": "stdout",
     "output_type": "stream",
     "text": [
      "Cellulose110_8000Water_NaCL_5M\n",
      "Mean Contact Angle: 51.86 degrees\n",
      "Contact Angle Error: ±2.08 degrees\n"
     ]
    }
   ],
   "source": [
    "# Calculate the mean and standard deviation\n",
    "mean_contact_angle = np.mean(CA_dict[0])\n",
    "std_contact_angle = np.std(CA_dict[0])\n",
    "\n",
    "edit = actual_file.replace(r'\\C','C')\n",
    "edit = edit.replace('.txt','')\n",
    "print(edit)\n",
    "print(f\"Mean Contact Angle: {mean_contact_angle:.2f} degrees\")\n",
    "print(f\"Contact Angle Error: ±{std_contact_angle:.2f} degrees\")"
   ]
  }
 ],
 "metadata": {
  "kernelspec": {
   "display_name": "Python 3",
   "language": "python",
   "name": "python3"
  },
  "language_info": {
   "codemirror_mode": {
    "name": "ipython",
    "version": 3
   },
   "file_extension": ".py",
   "mimetype": "text/x-python",
   "name": "python",
   "nbconvert_exporter": "python",
   "pygments_lexer": "ipython3",
   "version": "3.11.4"
  }
 },
 "nbformat": 4,
 "nbformat_minor": 2
}
