{
 "cells": [
  {
   "cell_type": "code",
   "execution_count": 2,
   "metadata": {},
   "outputs": [],
   "source": [
    "import MDAnalysis as mda\n",
    "import os\n",
    "import matplotlib.pyplot as plt\n",
    "import circle_fit as cf\n",
    "%matplotlib inline"
   ]
  },
  {
   "cell_type": "code",
   "execution_count": 3,
   "metadata": {},
   "outputs": [],
   "source": [
    "current_directory = os.getcwd()\n",
    "current_directory = str(current_directory)[:59]\n",
    "data_files_directory_name = 'DataFiles'\n",
    "\n",
    "graphene_water_psf = os.path.join(current_directory, data_files_directory_name, 'graphene_water.psf')\n",
    "ns_graphene_water_dcd = os.path.join(current_directory, data_files_directory_name, '1ns.dcd')\n",
    "\n",
    "#print(f'{graphene_water_psf} \\n {ns_graphene_water_dcd}')"
   ]
  },
  {
   "cell_type": "code",
   "execution_count": 4,
   "metadata": {},
   "outputs": [
    {
     "name": "stderr",
     "output_type": "stream",
     "text": [
      "c:\\Users\\drews\\AppData\\Local\\Programs\\Python\\Python312\\Lib\\site-packages\\MDAnalysis\\coordinates\\DCD.py:165: DeprecationWarning: DCDReader currently makes independent timesteps by copying self.ts while other readers update self.ts inplace. This behavior will be changed in 3.0 to be the same as other readers. Read more at https://github.com/MDAnalysis/mdanalysis/issues/3889 to learn if this change in behavior might affect you.\n",
      "  warnings.warn(\"DCDReader currently makes independent timesteps\"\n"
     ]
    }
   ],
   "source": [
    "u = mda.Universe(graphene_water_psf,ns_graphene_water_dcd)\n",
    "\n",
    "uni_SPCE = u.select_atoms('resname SPCE')\n",
    "pos = uni_SPCE.positions"
   ]
  },
  {
   "cell_type": "code",
   "execution_count": 5,
   "metadata": {},
   "outputs": [],
   "source": [
    "filtered_pos = {'x_val': [], 'y_val': [],'z_val': []}\n",
    "\n",
    "# Cutting data in half\n",
    "for coord in pos:\n",
    "    if coord[0] >= 0 and coord[1] >= 0 and coord[2] >= 0:\n",
    "        filtered_pos['x_val'].append(coord[0])\n",
    "        filtered_pos['y_val'].append(coord[1])\n",
    "        filtered_pos['z_val'].append(coord[2])"
   ]
  },
  {
   "cell_type": "code",
   "execution_count": 6,
   "metadata": {},
   "outputs": [
    {
     "name": "stdout",
     "output_type": "stream",
     "text": [
      "6080\n"
     ]
    }
   ],
   "source": [
    "print(len(filtered_pos['x_val']))"
   ]
  },
  {
   "cell_type": "code",
   "execution_count": 7,
   "metadata": {},
   "outputs": [],
   "source": [
    "percent_partition = .05\n",
    "y_partition,z_partition = [],[]\n",
    "\n",
    "y_max = max(filtered_pos['y_val'])\n",
    "z_max = max(filtered_pos['z_val'])\n",
    "x_length = max(filtered_pos['x_val']) - min(filtered_pos['x_val'])\n",
    "\n",
    "h2o_mass_amu = 18.016\n",
    "h2o_mass_SI = 2.99162692e-26\n",
    "\n",
    "partition_volume_default_units = y_max * z_max * x_length\n",
    "partition_volume_SI_units = partition_volume_default_units * 1e-10 * 1.66054e-27\n",
    "\n",
    "for i in range(int(1/percent_partition)):\n",
    "    y_partition.append(y_max * percent_partition * i)\n",
    "\n",
    "for i in range(int(1/percent_partition)):\n",
    "    z_partition.append(z_max * percent_partition * i)\n",
    "\n",
    "y_partition_SI = [i * 1e-10 for i in y_partition]\n",
    "z_partition_SI = [i * 1e-10 for i in z_partition]\n",
    "\n",
    "# Creation of y & z partition. Think of it like the reiman sum delta x's"
   ]
  },
  {
   "cell_type": "code",
   "execution_count": 8,
   "metadata": {},
   "outputs": [],
   "source": [
    "y_partitioned_pos = {}\n",
    "\n",
    "for i in range(len(y_partition)): # For each partition in our y_partition | which should have a total of 20\n",
    "\n",
    "    y_partitioned_pos[i] = {'x_val': [], 'y_val': [],'z_val': []}\n",
    "    for j in range(len(filtered_pos['x_val'])): # For every atom in our set | Which when halved we should have 6080 atoms\n",
    "        \n",
    "        try:\n",
    "            if filtered_pos['y_val'][j] >= y_partition[i] and filtered_pos['y_val'][j] <= y_partition[i+1]: # If sorted atom is at any x,z val in our y_partition, add to new dict\n",
    "                y_partitioned_pos[i]['x_val'].append(filtered_pos['x_val'][j])\n",
    "                y_partitioned_pos[i]['y_val'].append(filtered_pos['y_val'][j])\n",
    "                y_partitioned_pos[i]['z_val'].append(filtered_pos['z_val'][j])\n",
    "\n",
    "        except IndexError: # If our atom location is past our final partition, that is still expected and such the data is appended to a theoretical further one\n",
    "            y_partitioned_pos[i]['x_val'].append(filtered_pos['x_val'][j])\n",
    "            y_partitioned_pos[i]['y_val'].append(filtered_pos['y_val'][j])\n",
    "            y_partitioned_pos[i]['z_val'].append(filtered_pos['z_val'][j])"
   ]
  },
  {
   "cell_type": "code",
   "execution_count": 9,
   "metadata": {},
   "outputs": [],
   "source": [
    "fully_partitioned_coords = {}\n",
    "\n",
    "# Creation of the structure of our dictionary that we will be sorting our atoms into\n",
    "\n",
    "for i in range(int(1/percent_partition)): # Creating our y partitions\n",
    "    fully_partitioned_coords[i] = {}\n",
    "\n",
    "    for j in range(int(1/percent_partition)): # Creating our z partitions that we will eventually add atomic coords to\n",
    "        fully_partitioned_coords[i][j] = {'x_val':[],'y_val':[],'z_val':[]}\n",
    "\n",
    "\n",
    "for i_dist in range(len(y_partition)): # Iterating through each y partition until we go through each height partition\n",
    "    for i_height in range(len(z_partition)): # Iterating through each z partition\n",
    "        for i_atom in range(len(y_partitioned_pos[i_dist]['z_val'])): # Looping through all our atoms and asking them, are you in this y partition and this z partition\n",
    "\n",
    "            try: \n",
    "                if z_partition[i_height] <= y_partitioned_pos[i_dist]['z_val'][i_atom] and y_partitioned_pos[i_dist]['z_val'][i_atom] <= z_partition[i_height + 1]:\n",
    "                    fully_partitioned_coords[i_dist][i_height]['x_val'].append(y_partitioned_pos[i_dist]['x_val'][i_atom])\n",
    "                    fully_partitioned_coords[i_dist][i_height]['y_val'].append(y_partitioned_pos[i_dist]['y_val'][i_atom])\n",
    "                    fully_partitioned_coords[i_dist][i_height]['z_val'].append(y_partitioned_pos[i_dist]['z_val'][i_atom])\n",
    "\n",
    "            except IndexError:\n",
    "                fully_partitioned_coords[i_dist][i_height]['x_val'].append(y_partitioned_pos[i_dist]['x_val'][i_atom])\n",
    "                fully_partitioned_coords[i_dist][i_height]['y_val'].append(y_partitioned_pos[i_dist]['y_val'][i_atom])\n",
    "                fully_partitioned_coords[i_dist][i_height]['z_val'].append(y_partitioned_pos[i_dist]['z_val'][i_atom])"
   ]
  },
  {
   "cell_type": "code",
   "execution_count": 10,
   "metadata": {},
   "outputs": [],
   "source": [
    "density_partition = {}\n",
    "for i in range(len(fully_partitioned_coords.keys())): # Creating structure that we will append our densities to eventually.\n",
    "    density_partition[i] = []\n",
    "\n",
    "# Density partition takes form of {0:[],1:[],...} where key represents the y_partition and the lists represent the z_partitions which the densities will be stored in\n",
    "# These z_partitions are assuming from bottom z to top z"
   ]
  },
  {
   "cell_type": "code",
   "execution_count": 11,
   "metadata": {},
   "outputs": [],
   "source": [
    "for i in range(len(fully_partitioned_coords.keys())): # Iterating through each y partition in our fulpartitioned dict\n",
    "    for j in range(len(fully_partitioned_coords[i].keys())): # Iterating through each z partition in our fulpartitioned dict\n",
    "\n",
    "        #density = len(fully_partitioned_coords[i][j]['x_val']) * h2o_mass_SI / (partition_volume_SI_units) # kg / m^3\n",
    "        density_partition[i].append(len(fully_partitioned_coords[i][j]['x_val'])) # Writing the amount of atoms in said (y,z) partition into the density array"
   ]
  },
  {
   "cell_type": "code",
   "execution_count": 23,
   "metadata": {},
   "outputs": [
    {
     "data": {
      "text/plain": [
       "Text(0, 0.5, 'Y Partition (Å)')"
      ]
     },
     "execution_count": 23,
     "metadata": {},
     "output_type": "execute_result"
    },
    {
     "data": {
      "image/png": "[encoded data removed]",
      "text/plain": [
       "<Figure size 640x480 with 2 Axes>"
      ]
     },
     "metadata": {},
     "output_type": "display_data"
    }
   ],
   "source": [
    "\n",
    "data = {\n",
    "    0: [6, 20, 22, 23, 22, 19, 25, 15, 21, 25, 20, 17, 19, 13, 10, 12, 21, 20, 18, 15],\n",
    "    1: [7, 20, 22, 27, 21, 27, 27, 18, 28, 22, 26, 22, 25, 23, 19, 25, 21, 22, 22, 13],\n",
    "    2: [7, 24, 21, 22, 23, 21, 19, 18, 16, 18, 20, 20, 16, 20, 17, 23, 24, 20, 23, 18],\n",
    "    3: [8, 21, 18, 20, 15, 17, 21, 19, 19, 21, 26, 19, 22, 18, 20, 8, 17, 27, 21, 16],\n",
    "    4: [2, 17, 25, 25, 20, 19, 20, 22, 16, 22, 22, 23, 23, 18, 15, 17, 21, 16, 20, 13],\n",
    "    5: [0, 17, 21, 22, 18, 21, 25, 16, 17, 18, 17, 17, 24, 16, 17, 12, 22, 20, 19, 5],\n",
    "    6: [3, 22, 14, 21, 24, 15, 18, 23, 19, 21, 22, 10, 25, 22, 25, 29, 25, 23, 22, 0],\n",
    "    7: [3, 19, 20, 22, 16, 16, 24, 21, 21, 23, 26, 20, 21, 21, 22, 21, 18, 27, 18, 0],\n",
    "    8: [2, 19, 21, 19, 21, 20, 27, 23, 21, 23, 20, 21, 18, 10, 17, 19, 21, 23, 5, 0],\n",
    "    9: [5, 26, 25, 15, 20, 21, 15, 26, 23, 15, 22, 22, 26, 17, 29, 17, 19, 14, 0, 0],\n",
    "    10: [13, 22, 18, 21, 24, 18, 19, 26, 21, 21, 16, 25, 10, 23, 19, 19, 20, 5, 0, 0],\n",
    "    11: [7, 23, 20, 17, 19, 24, 22, 25, 24, 19, 22, 23, 24, 11, 20, 22, 5, 0, 0, 0],\n",
    "    12: [4, 19, 25, 24, 24, 23, 24, 19, 24, 21, 19, 23, 15, 27, 16, 11, 0, 0, 0, 0],\n",
    "    13: [2, 18, 20, 23, 21, 31, 27, 21, 19, 17, 16, 23, 24, 21, 8, 0, 0, 0, 0, 0],\n",
    "    14: [4, 19, 25, 27, 24, 25, 13, 26, 21, 21, 18, 20, 23, 9, 0, 0, 0, 0, 0, 0],\n",
    "    15: [7, 16, 16, 11, 21, 20, 21, 17, 16, 20, 25, 27, 8, 1, 0, 0, 0, 0, 0, 0],\n",
    "    16: [4, 24, 15, 24, 25, 21, 24, 25, 14, 19, 27, 1, 0, 0, 0, 0, 0, 0, 0, 0],\n",
    "    17: [5, 16, 14, 28, 20, 21, 19, 18, 6, 2, 0, 0, 0, 0, 0, 0, 0, 0, 0, 0],\n",
    "    18: [6, 22, 19, 19, 26, 19, 8, 1, 0, 0, 0, 0, 0, 0, 0, 0, 0, 0, 0, 0],\n",
    "    19: [4, 8, 22, 13, 12, 0, 0, 0, 0, 0, 0, 0, 0, 0, 0, 0, 0, 0, 0, 0]\n",
    "}\n",
    "\n",
    "# Custom tick values and labels for y-axis\n",
    "y_ticks = [i*3.837737274169922 for i in range(len(data))]\n",
    "y_labels = [f'{i:.1f}' for i in y_ticks]\n",
    "\n",
    "# Custom tick values and labels for x-axis\n",
    "z_ticks = [i*3.9192962646484375 for i in range(len(data[0]))]\n",
    "z_labels = [f'{i:.1f}' for i in z_ticks]\n",
    "\n",
    "# Convert dictionary to 2D list\n",
    "matrix = [[data[y][z] for z in range(len(data[0]))] for y in range(len(data))]\n",
    "\n",
    "plt.imshow(matrix)\n",
    "\n",
    "#plt.xticks(range(len(z_ticks)), z_labels, rotation=45)  # Rotate x-axis labels by 45 degrees\n",
    "#plt.yticks(range(len(y_ticks)), y_labels)\n",
    "\n",
    "plt.title('Atoms Distribution')\n",
    "plt.colorbar(label='Number of Atoms')\n",
    "plt.xlabel('Z Partition (Å)')\n",
    "plt.ylabel('Y Partition (Å)')\n"
   ]
  },
  {
   "cell_type": "code",
   "execution_count": 13,
   "metadata": {},
   "outputs": [
    {
     "name": "stdout",
     "output_type": "stream",
     "text": [
      "[(0.0, 74.5), (3.8, 74.5), (7.7, 78.4), (11.5, 74.5), (15.4, 74.5), (19.2, 74.5), (23.0, 74.5), (26.9, 74.5), (30.7, 70.5), (34.5, 66.6), (38.4, 66.6), (42.2, 62.7), (46.1, 54.9), (49.9, 54.9), (53.7, 51.0), (57.6, 47.0), (61.4, 43.1), (65.2, 31.4), (69.1, 23.5), (72.9, 11.8)]\n"
     ]
    }
   ],
   "source": [
    "first_height = data[0]\n",
    "ph_index = []\n",
    "\n",
    "for index in range(len(data.keys())):\n",
    "    for i in range(len(first_height)):\n",
    "        if data[index][-i-1] < 18 and data[index][-i-2] >= 18:\n",
    "            ph_index.append(-i-2)\n",
    "            break\n",
    "        elif data[index][-1] >= 18:\n",
    "            ph_index.append(-1)\n",
    "            break\n",
    "\n",
    "actual_y_vals = []\n",
    "actual_x_vals = []\n",
    "for i in range(len(ph_index)):\n",
    "    actual_y_vals.append(21 + ph_index[i])\n",
    "    actual_x_vals.append(i)\n",
    "\n",
    "furthest_coord_pos = []\n",
    "for i in range(len(actual_y_vals)):\n",
    "    furthest_coord_pos.append((round(actual_x_vals[i] * y_max * percent_partition, 1), round(actual_y_vals[i] * z_max * percent_partition, 1)))\n",
    "\n",
    "\n",
    "print(furthest_coord_pos)\n",
    "\n"
   ]
  },
  {
   "cell_type": "code",
   "execution_count": 14,
   "metadata": {},
   "outputs": [],
   "source": [
    "#for i in range(len(furthest_coord_pos)):\n",
    "#    print([furthest_coord_pos[2*i],furthest_coord_pos[(2*i+1)]])"
   ]
  },
  {
   "cell_type": "code",
   "execution_count": 15,
   "metadata": {},
   "outputs": [
    {
     "name": "stdout",
     "output_type": "stream",
     "text": [
      "-0.77 3.98 72.63\n"
     ]
    }
   ],
   "source": [
    "\n",
    "xc,yc,r,_ = cf.least_squares_circle(furthest_coord_pos)\n",
    "point_coordinates = [[1, 0], [-1, 0], [0, 1], [0, -1]]\n",
    "print(round(xc,2),round(yc,2),round(r,2))"
   ]
  },
  {
   "cell_type": "code",
   "execution_count": null,
   "metadata": {},
   "outputs": [],
   "source": []
  }
 ],
 "metadata": {
  "kernelspec": {
   "display_name": "Python 3",
   "language": "python",
   "name": "python3"
  },
  "language_info": {
   "codemirror_mode": {
    "name": "ipython",
    "version": 3
   },
   "file_extension": ".py",
   "mimetype": "text/x-python",
   "name": "python",
   "nbconvert_exporter": "python",
   "pygments_lexer": "ipython3",
   "version": "3.12.0"
  }
 },
 "nbformat": 4,
 "nbformat_minor": 2
}
